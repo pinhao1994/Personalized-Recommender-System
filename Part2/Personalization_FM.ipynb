{
 "cells": [
  {
   "cell_type": "markdown",
   "metadata": {},
   "source": [
    "### Notes\n",
    "using asin(item id), reviewer(user id), star_rating(rating), date(timestamp)"
   ]
  },
  {
   "cell_type": "code",
   "execution_count": 41,
   "metadata": {
    "scrolled": true
   },
   "outputs": [],
   "source": [
    "import pandas as pd\n",
    "import numpy as np\n",
    "import matplotlib.pyplot as plt\n",
    "import time\n",
    "from pyfm import pylibfm\n",
    "\n",
    "\n",
    "# sklearn lib\n",
    "from sklearn.feature_extraction import DictVectorizer\n",
    "from sklearn.cross_validation import train_test_split\n",
    "from sklearn.metrics import mean_squared_error, accuracy_score, roc_auc_score\n",
    "% matplotlib inline"
   ]
  },
  {
   "cell_type": "code",
   "execution_count": 42,
   "metadata": {
    "collapsed": true
   },
   "outputs": [],
   "source": [
    "amazon = pd.read_csv(\"train_data.csv\")\n",
    "# amazon.head()"
   ]
  },
  {
   "cell_type": "code",
   "execution_count": 43,
   "metadata": {
    "collapsed": true
   },
   "outputs": [],
   "source": [
    "def format_data(df, col=[], rename=[]):\n",
    "    if not col or type(col)!=list or type(rename)!=list:\n",
    "        raise Exception(\"input error\")\n",
    "    df = df[col]\n",
    "    if rename:\n",
    "        df = df.rename(index=str, columns=dict(zip(col, rename)))\n",
    "    return df.to_dict(orient=\"records\")"
   ]
  },
  {
   "cell_type": "markdown",
   "metadata": {},
   "source": [
    "# FastFM"
   ]
  },
  {
   "cell_type": "code",
   "execution_count": 44,
   "metadata": {
    "collapsed": true
   },
   "outputs": [],
   "source": [
    "from fastFM import als\n",
    "import scipy"
   ]
  },
  {
   "cell_type": "code",
   "execution_count": 45,
   "metadata": {
    "collapsed": true
   },
   "outputs": [],
   "source": [
    "''' We Need to Sample Data '''\n",
    "#size = amazon.shape[0]\n",
    "size = 10"
   ]
  },
  {
   "cell_type": "code",
   "execution_count": 46,
   "metadata": {
    "collapsed": true
   },
   "outputs": [],
   "source": [
    "data = format_data(amazon[size:2*size], col=[\"asin\", \"reviewer\", \"star_rating\"], rename=[\"1_user\", \"2_item\", \"0_rating\"])"
   ]
  },
  {
   "cell_type": "code",
   "execution_count": 47,
   "metadata": {
    "collapsed": true
   },
   "outputs": [],
   "source": [
    "dv = DictVectorizer()\n",
    "matrix = dv.fit_transform(data).toarray()"
   ]
  },
  {
   "cell_type": "code",
   "execution_count": 48,
   "metadata": {
    "collapsed": true
   },
   "outputs": [],
   "source": [
    "''' Implement Our Split to get the Index '''\n",
    "def my_split(size, x, y, per=0.2):\n",
    "    ratio = int(size * per)\n",
    "#     x_test = x[:ratio, :]\n",
    "#     x_train = x[ratio:, :]\n",
    "#     y_test = y[:ratio, :]\n",
    "#     y_train = y[ratio:, :]\n",
    "    return x[ratio:, :], x[:ratio, :], y[ratio:, :], y[:ratio, :]\n",
    "\n",
    "\n",
    "# x_train, x_test, y_train, y_test = my_split(size, matrix[:,1:], matrix[:,:1], 0.2)\n",
    "# x_train = scipy.sparse.csr_matrix(x_train) # memory crash\n",
    "# x_test = scipy.sparse.csr_matrix(x_test)\n",
    "# y_train = y_train.T[0]\n",
    "# y_test = y_test.T[0]"
   ]
  },
  {
   "cell_type": "code",
   "execution_count": 49,
   "metadata": {
    "collapsed": true
   },
   "outputs": [],
   "source": [
    "# memory crash for size > 50,000\n",
    "x_train, x_test, y_train, y_test = train_test_split(matrix[:,1:], matrix[:,:1], test_size=0.2)\n",
    "x_train = scipy.sparse.csr_matrix(x_train)\n",
    "x_test = scipy.sparse.csr_matrix(x_test)\n",
    "y_train = y_train.T[0]\n",
    "y_test = y_test.T[0]"
   ]
  },
  {
   "cell_type": "code",
   "execution_count": 50,
   "metadata": {},
   "outputs": [
    {
     "data": {
      "text/plain": [
       "FMRegression(init_stdev=0.1, l2_reg=0, l2_reg_V=0.5, l2_reg_w=0.1,\n",
       "       n_iter=1000, random_state=123, rank=2)"
      ]
     },
     "execution_count": 50,
     "metadata": {},
     "output_type": "execute_result"
    }
   ],
   "source": [
    "fm = als.FMRegression(n_iter=1000, init_stdev=0.1, rank=2, l2_reg_w=0.1, l2_reg_V=0.5)\n",
    "#fm = als.FMRegression()\n",
    "fm.fit(x_train, y_train)"
   ]
  },
  {
   "cell_type": "code",
   "execution_count": 51,
   "metadata": {},
   "outputs": [
    {
     "name": "stdout",
     "output_type": "stream",
     "text": [
      "FM MSE: 2.5000\n",
      "FM ACC: 50.0％\n",
      "FM AUC: 50.0％\n"
     ]
    }
   ],
   "source": [
    "y_pred = fm.predict(x_test)\n",
    "print(\"FM MSE: %.4f\" % mean_squared_error(y_test, y_pred))\n",
    "print(\"FM ACC: %s％\" % str(100*accuracy_score((y_test>3.5).astype(\"int\"),(y_pred>3.5).astype(\"int\"))))\n",
    "print(\"FM AUC: %s％\" % str(round(100*roc_auc_score((y_test>3.5).astype(\"int\"),(y_pred>3.5).astype(\"int\")),2)))"
   ]
  },
  {
   "cell_type": "code",
   "execution_count": 52,
   "metadata": {},
   "outputs": [
    {
     "data": {
      "text/plain": [
       "array([ 3.00000012,  3.00000012])"
      ]
     },
     "execution_count": 52,
     "metadata": {},
     "output_type": "execute_result"
    }
   ],
   "source": [
    "y_pred "
   ]
  },
  {
   "cell_type": "code",
   "execution_count": 54,
   "metadata": {},
   "outputs": [
    {
     "data": {
      "text/plain": [
       "array([[ 1.,  0.,  0.,  0.,  0.,  0.,  0.,  0.,  1.,  0.,  0.],\n",
       "       [ 1.,  0.,  0.,  0.,  0.,  0.,  0.,  0.,  0.,  1.,  0.]])"
      ]
     },
     "execution_count": 54,
     "metadata": {},
     "output_type": "execute_result"
    }
   ],
   "source": [
    "x_test.toarray()"
   ]
  },
  {
   "cell_type": "code",
   "execution_count": 55,
   "metadata": {},
   "outputs": [
    {
     "data": {
      "text/plain": [
       "array([[ 1.,  1.,  0.,  0.,  0.,  0.,  0.,  0.,  1.,  0.,  0.,  0.],\n",
       "       [ 2.,  1.,  0.,  0.,  0.,  0.,  0.,  0.,  0.,  0.,  0.,  1.],\n",
       "       [ 1.,  1.,  0.,  0.,  1.,  0.,  0.,  0.,  0.,  0.,  0.,  0.],\n",
       "       [ 5.,  1.,  0.,  0.,  0.,  0.,  1.,  0.,  0.,  0.,  0.,  0.],\n",
       "       [ 1.,  1.,  1.,  0.,  0.,  0.,  0.,  0.,  0.,  0.,  0.,  0.],\n",
       "       [ 4.,  1.,  0.,  0.,  0.,  0.,  0.,  0.,  0.,  0.,  1.,  0.],\n",
       "       [ 1.,  1.,  0.,  0.,  0.,  0.,  0.,  0.,  0.,  1.,  0.,  0.],\n",
       "       [ 5.,  1.,  0.,  0.,  0.,  0.,  0.,  1.,  0.,  0.,  0.,  0.],\n",
       "       [ 4.,  1.,  0.,  1.,  0.,  0.,  0.,  0.,  0.,  0.,  0.,  0.],\n",
       "       [ 5.,  1.,  0.,  0.,  0.,  1.,  0.,  0.,  0.,  0.,  0.,  0.]])"
      ]
     },
     "execution_count": 55,
     "metadata": {},
     "output_type": "execute_result"
    }
   ],
   "source": [
    "matrix"
   ]
  },
  {
   "cell_type": "code",
   "execution_count": 56,
   "metadata": {},
   "outputs": [
    {
     "data": {
      "text/plain": [
       "[{'0_rating': 1, '1_user': 'B004VMVFIY', '2_item': 'A8O00KPAJP40B'},\n",
       " {'0_rating': 2, '1_user': 'B004VMVFIY', '2_item': 'AGA6K1Y2UO9F5'},\n",
       " {'0_rating': 1, '1_user': 'B004VMVFIY', '2_item': 'A1M9HAGD2D9ED2'},\n",
       " {'0_rating': 5, '1_user': 'B004VMVFIY', '2_item': 'A1QZBI80TVR2F3'},\n",
       " {'0_rating': 1, '1_user': 'B004VMVFIY', '2_item': 'A1FO3REV9O05E0'},\n",
       " {'0_rating': 4, '1_user': 'B004VMVFIY', '2_item': 'A9S9RXZFJ0WF'},\n",
       " {'0_rating': 1, '1_user': 'B004VMVFIY', '2_item': 'A9OF56RUW8NN'},\n",
       " {'0_rating': 5, '1_user': 'B004VMVFIY', '2_item': 'A3INH2GLJJHZZA'},\n",
       " {'0_rating': 4, '1_user': 'B004VMVFIY', '2_item': 'A1GU4E3UXPNRPM'},\n",
       " {'0_rating': 5, '1_user': 'B004VMVFIY', '2_item': 'A1NXEOQOLGBQEW'}]"
      ]
     },
     "execution_count": 56,
     "metadata": {},
     "output_type": "execute_result"
    }
   ],
   "source": [
    "data"
   ]
  },
  {
   "cell_type": "code",
   "execution_count": 60,
   "metadata": {},
   "outputs": [
    {
     "data": {
      "text/plain": [
       "['A8O00KPAJP40B',\n",
       " 'AGA6K1Y2UO9F5',\n",
       " 'A1M9HAGD2D9ED2',\n",
       " 'A1QZBI80TVR2F3',\n",
       " 'A1FO3REV9O05E0',\n",
       " 'A9S9RXZFJ0WF',\n",
       " 'A9OF56RUW8NN',\n",
       " 'A3INH2GLJJHZZA',\n",
       " 'A1GU4E3UXPNRPM',\n",
       " 'A1NXEOQOLGBQEW']"
      ]
     },
     "execution_count": 60,
     "metadata": {},
     "output_type": "execute_result"
    }
   ],
   "source": [
    "lt = list()\n",
    "for e in data:\n",
    "    lt.append(e[\"2_item\"])\n",
    "lt"
   ]
  },
  {
   "cell_type": "code",
   "execution_count": 61,
   "metadata": {},
   "outputs": [
    {
     "data": {
      "text/plain": [
       "['A1FO3REV9O05E0',\n",
       " 'A1GU4E3UXPNRPM',\n",
       " 'A1M9HAGD2D9ED2',\n",
       " 'A1NXEOQOLGBQEW',\n",
       " 'A1QZBI80TVR2F3',\n",
       " 'A3INH2GLJJHZZA',\n",
       " 'A8O00KPAJP40B',\n",
       " 'A9OF56RUW8NN',\n",
       " 'A9S9RXZFJ0WF',\n",
       " 'AGA6K1Y2UO9F5']"
      ]
     },
     "execution_count": 61,
     "metadata": {},
     "output_type": "execute_result"
    }
   ],
   "source": [
    "sorted(lt)"
   ]
  },
  {
   "cell_type": "code",
   "execution_count": null,
   "metadata": {
    "collapsed": true
   },
   "outputs": [],
   "source": []
  }
 ],
 "metadata": {
  "kernelspec": {
   "display_name": "Python 2",
   "language": "python",
   "name": "python2"
  },
  "language_info": {
   "codemirror_mode": {
    "name": "ipython",
    "version": 2
   },
   "file_extension": ".py",
   "mimetype": "text/x-python",
   "name": "python",
   "nbconvert_exporter": "python",
   "pygments_lexer": "ipython2",
   "version": "2.7.13"
  }
 },
 "nbformat": 4,
 "nbformat_minor": 2
}
